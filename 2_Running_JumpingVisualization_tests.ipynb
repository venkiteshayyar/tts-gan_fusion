{
 "cells": [
  {
   "cell_type": "markdown",
   "metadata": {},
   "source": [
    "## Compare the similarities of the synthetic data with real data based on some evalutation matrices"
   ]
  },
  {
   "cell_type": "markdown",
   "metadata": {},
   "source": [
    "### Step 1: Load Real running and Jumping data"
   ]
  },
  {
   "cell_type": "code",
   "execution_count": 1,
   "metadata": {
    "tags": []
   },
   "outputs": [],
   "source": [
    "from LoadRealRunningJumping import *\n",
    "from torch.utils import data\n",
    "\n",
    "import matplotlib.pyplot as plt\n"
   ]
  },
  {
   "cell_type": "code",
   "execution_count": 2,
   "metadata": {
    "tags": []
   },
   "outputs": [],
   "source": [
    "%matplotlib widget"
   ]
  },
  {
   "cell_type": "code",
   "execution_count": 3,
   "metadata": {
    "tags": []
   },
   "outputs": [
    {
     "name": "stdout",
     "output_type": "stream",
     "text": [
      "data shape is (1200, 3, 1, 150), label shape is (1200, 1)\n",
      "Jumping label is 1, has 600 samples, Running label is 0, has 600 samples\n"
     ]
    }
   ],
   "source": [
    "train_set = Running_Or_Jumping(incl_xyz_accel = True, incl_rms_accel = False, is_normalize = True, data_mode = 'Train')"
   ]
  },
  {
   "cell_type": "code",
   "execution_count": 4,
   "metadata": {
    "tags": []
   },
   "outputs": [],
   "source": [
    "real_data_loader = data.DataLoader(train_set, batch_size=1, num_workers=1, shuffle=True)"
   ]
  },
  {
   "cell_type": "code",
   "execution_count": 5,
   "metadata": {
    "tags": []
   },
   "outputs": [
    {
     "name": "stdout",
     "output_type": "stream",
     "text": [
      "(600, 3, 150)\n",
      "(600, 3, 150)\n"
     ]
    }
   ],
   "source": [
    "real_running = []\n",
    "real_jumping = []\n",
    "\n",
    "for i, (real_sig, label) in enumerate(real_data_loader):\n",
    "    real_sig = real_sig.cpu().detach().numpy()\n",
    "    sig = real_sig.reshape(real_sig.shape[1], real_sig.shape[3])\n",
    "    if label[0] == 0:\n",
    "        real_running.append(sig)\n",
    "    elif label[0] == 1:\n",
    "        real_jumping.append(sig)\n",
    "\n",
    "real_running = np.array(real_running)\n",
    "real_jumping = np.array(real_jumping)\n",
    "print(real_running.shape)\n",
    "print(real_jumping.shape)"
   ]
  },
  {
   "cell_type": "code",
   "execution_count": 14,
   "metadata": {
    "tags": []
   },
   "outputs": [],
   "source": [
    "# [i[-1] for i in train_set]"
   ]
  },
  {
   "cell_type": "code",
   "execution_count": null,
   "metadata": {
    "tags": []
   },
   "outputs": [],
   "source": [
    "fig, axs = plt.subplots(1, 5, figsize=(15,5))\n",
    "fig.suptitle('Real_Running', fontsize=10)\n",
    "for i in range(5):\n",
    "    axs[i].plot(real_running[i][0][:])\n",
    "    axs[i].plot(real_running[i][1][:])\n",
    "    axs[i].plot(real_running[i][2][:])"
   ]
  },
  {
   "cell_type": "code",
   "execution_count": null,
   "metadata": {
    "tags": []
   },
   "outputs": [],
   "source": [
    "fig, axs = plt.subplots(1, 10, figsize=(35,5))\n",
    "fig.suptitle('Real_Jumping', fontsize=30)\n",
    "for i in range(10):\n",
    "    axs[i].plot(real_jumping[i][0][:])\n",
    "    axs[i].plot(real_jumping[i][1][:])\n",
    "    axs[i].plot(real_jumping[i][2][:])"
   ]
  },
  {
   "cell_type": "markdown",
   "metadata": {},
   "source": [
    "### Step 2: Load synthetic running and juumping data"
   ]
  },
  {
   "cell_type": "code",
   "execution_count": null,
   "metadata": {
    "tags": []
   },
   "outputs": [],
   "source": [
    "from LoadSyntheticRunningJumping import *\n",
    "from torch.utils import data"
   ]
  },
  {
   "cell_type": "code",
   "execution_count": null,
   "metadata": {
    "tags": []
   },
   "outputs": [],
   "source": [
    "syn_data = Synthetic_Dataset()"
   ]
  },
  {
   "cell_type": "code",
   "execution_count": null,
   "metadata": {
    "tags": []
   },
   "outputs": [],
   "source": [
    "syn_data_loader = data.DataLoader(syn_data, batch_size=1, num_workers=1, shuffle=True)"
   ]
  },
  {
   "cell_type": "code",
   "execution_count": null,
   "metadata": {
    "tags": []
   },
   "outputs": [],
   "source": [
    "import matplotlib.pyplot as plt\n",
    "syn_running = []\n",
    "syn_jumping = []\n",
    "\n",
    "for i, (syn_sig, label) in enumerate(syn_data_loader):\n",
    "    syn_sig = syn_sig.cpu().detach().numpy()\n",
    "    sig = syn_sig.reshape(syn_sig.shape[1], syn_sig.shape[3])\n",
    "    if label[0] == 0:\n",
    "        syn_running.append(sig)\n",
    "    elif label[0] == 1:\n",
    "        syn_jumping.append(sig)\n",
    "\n",
    "syn_running = np.array(syn_running)\n",
    "syn_jumping = np.array(syn_jumping)\n",
    "print(syn_running.shape)\n",
    "print(syn_jumping.shape)"
   ]
  },
  {
   "cell_type": "code",
   "execution_count": null,
   "metadata": {
    "tags": []
   },
   "outputs": [],
   "source": [
    "fig, axs = plt.subplots(1, 10, figsize=(35,5))\n",
    "fig.suptitle('Syn_Running', fontsize=30)\n",
    "for i in range(10):\n",
    "    axs[i].plot(syn_running[i][0][:])\n",
    "    axs[i].plot(syn_running[i][1][:])\n",
    "    axs[i].plot(syn_running[i][2][:])"
   ]
  },
  {
   "cell_type": "code",
   "execution_count": null,
   "metadata": {
    "tags": []
   },
   "outputs": [],
   "source": [
    "fig, axs = plt.subplots(1, 10, figsize=(35,5))\n",
    "fig.suptitle('Syn_Jumping', fontsize=30)\n",
    "for i in range(10):\n",
    "    axs[i].plot(syn_jumping[i][0][:])\n",
    "    axs[i].plot(syn_jumping[i][1][:])\n",
    "    axs[i].plot(syn_jumping[i][2][:])"
   ]
  },
  {
   "cell_type": "markdown",
   "metadata": {},
   "source": [
    "### Step 3: PCA"
   ]
  },
  {
   "cell_type": "code",
   "execution_count": null,
   "metadata": {
    "tags": []
   },
   "outputs": [],
   "source": [
    "print(real_running.shape)\n",
    "print(real_jumping.shape)\n",
    "print(syn_running.shape)\n",
    "print(syn_jumping.shape)"
   ]
  },
  {
   "cell_type": "code",
   "execution_count": null,
   "metadata": {
    "tags": []
   },
   "outputs": [],
   "source": [
    "real_running = np.transpose(real_running, (0, 2, 1))\n",
    "real_jumping = np.transpose(real_jumping, (0, 2, 1))\n",
    "syn_running = np.transpose(syn_running, (0, 2, 1))\n",
    "syn_jumping = np.transpose(syn_jumping, (0, 2, 1))\n",
    "print(real_running.shape)\n",
    "print(real_jumping.shape)\n",
    "print(syn_running.shape)\n",
    "print(syn_jumping.shape)"
   ]
  },
  {
   "cell_type": "code",
   "execution_count": null,
   "metadata": {
    "tags": []
   },
   "outputs": [],
   "source": [
    "from visualizationMetrics import visualization"
   ]
  },
  {
   "cell_type": "code",
   "execution_count": null,
   "metadata": {
    "tags": []
   },
   "outputs": [],
   "source": [
    "visualization(real_running, syn_running, 'pca', 'Running-pca')"
   ]
  },
  {
   "cell_type": "code",
   "execution_count": null,
   "metadata": {
    "tags": []
   },
   "outputs": [],
   "source": [
    "#visualization(real_running, syn_jumping, 'pca')"
   ]
  },
  {
   "cell_type": "code",
   "execution_count": null,
   "metadata": {
    "tags": []
   },
   "outputs": [],
   "source": [
    "visualization(real_jumping, syn_jumping, 'pca', 'Jumping-pca')"
   ]
  },
  {
   "cell_type": "code",
   "execution_count": null,
   "metadata": {
    "tags": []
   },
   "outputs": [],
   "source": [
    "#visualization(real_jumping, syn_running, 'pca')"
   ]
  },
  {
   "cell_type": "code",
   "execution_count": null,
   "metadata": {
    "tags": []
   },
   "outputs": [],
   "source": [
    "visualization(real_running, syn_running, 'tsne', 'Running-tsne')"
   ]
  },
  {
   "cell_type": "code",
   "execution_count": null,
   "metadata": {
    "tags": []
   },
   "outputs": [],
   "source": [
    "visualization(real_running, syn_jumping, 'tsne', 'Real-R_Syn_J-tsne')"
   ]
  },
  {
   "cell_type": "code",
   "execution_count": null,
   "metadata": {
    "tags": []
   },
   "outputs": [],
   "source": [
    "visualization(real_jumping, syn_jumping, 'tsne', 'Jumping-tsne')"
   ]
  },
  {
   "cell_type": "code",
   "execution_count": null,
   "metadata": {},
   "outputs": [],
   "source": []
  },
  {
   "cell_type": "code",
   "execution_count": null,
   "metadata": {
    "tags": []
   },
   "outputs": [],
   "source": [
    "visualization(real_jumping, syn_running, 'tsne', 'Real-J_Syn_R-tsne')"
   ]
  },
  {
   "cell_type": "code",
   "execution_count": null,
   "metadata": {},
   "outputs": [],
   "source": []
  },
  {
   "cell_type": "code",
   "execution_count": null,
   "metadata": {},
   "outputs": [],
   "source": []
  }
 ],
 "metadata": {
  "kernelspec": {
   "display_name": "ttsgan",
   "language": "python",
   "name": "ttsgan"
  },
  "language_info": {
   "codemirror_mode": {
    "name": "ipython",
    "version": 3
   },
   "file_extension": ".py",
   "mimetype": "text/x-python",
   "name": "python",
   "nbconvert_exporter": "python",
   "pygments_lexer": "ipython3",
   "version": "3.8.18"
  }
 },
 "nbformat": 4,
 "nbformat_minor": 4
}
