

fname='test_args.txt'


with open(fname,'r') as f:
    lst = f.readlines()


